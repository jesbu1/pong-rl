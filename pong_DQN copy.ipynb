{
 "cells": [
  {
   "cell_type": "markdown",
   "metadata": {},
   "source": [
    "## Imports"
   ]
  },
  {
   "cell_type": "code",
   "execution_count": 5,
   "metadata": {},
   "outputs": [
    {
     "name": "stdout",
     "output_type": "stream",
     "text": [
      "Use GPU: False\n",
      "Use MPS: True\n"
     ]
    }
   ],
   "source": [
    "import torch\n",
    "use_gpu = torch.cuda.is_available()\n",
    "print('Use GPU: {}'.format(use_gpu))\n",
    "\n",
    "use_mps = torch.backends.mps.is_available()\n",
    "print('Use MPS: {}'.format(use_mps))\n",
    "from train_dqn import *\n",
    "agent = PongAgent()"
   ]
  },
  {
   "cell_type": "markdown",
   "metadata": {},
   "source": [
    "## What is Reinforcement Learning? AI Agents\n",
    "\n",
    "![RL](./images/rl_overview.png \"Reinforcement Learning Overview\")"
   ]
  },
  {
   "cell_type": "markdown",
   "metadata": {},
   "source": [
    "## What is DQN? Deep Q Networks:\n",
    "\n",
    "![DQN](./images/dqn.png \"DQN AI Model Architecture\")"
   ]
  },
  {
   "cell_type": "markdown",
   "metadata": {},
   "source": [
    "## Questions: What is RL in pong?"
   ]
  },
  {
   "cell_type": "markdown",
   "metadata": {},
   "source": [
    "![PONG](./images/pong_gif.gif \"ATARI PONG Environment\")"
   ]
  },
  {
   "cell_type": "markdown",
   "metadata": {},
   "source": [
    "## Untrained AI"
   ]
  },
  {
   "cell_type": "code",
   "execution_count": 6,
   "metadata": {},
   "outputs": [],
   "source": [
    "agent.reinit()\n",
    "agent.play(2)"
   ]
  },
  {
   "cell_type": "markdown",
   "metadata": {},
   "source": [
    "## Barely Trained AI: Might be even worse than the initial model! Why? Trained on nearly random behavior!"
   ]
  },
  {
   "cell_type": "code",
   "execution_count": 7,
   "metadata": {},
   "outputs": [],
   "source": [
    "agent.load_model('./model/current_model_50.pth')\n",
    "agent.play(2)"
   ]
  },
  {
   "cell_type": "markdown",
   "metadata": {},
   "source": [
    "# Partly trained AI"
   ]
  },
  {
   "cell_type": "code",
   "execution_count": 8,
   "metadata": {},
   "outputs": [
    {
     "name": "stderr",
     "output_type": "stream",
     "text": [
      "AGX: exceeded compiled variants footprint limit\n"
     ]
    }
   ],
   "source": [
    "agent.load_model('./model/current_model_150.pth')\n",
    "agent.play(1)"
   ]
  },
  {
   "cell_type": "markdown",
   "metadata": {},
   "source": [
    "# Halfway trained AI"
   ]
  },
  {
   "cell_type": "code",
   "execution_count": 9,
   "metadata": {},
   "outputs": [],
   "source": [
    "agent.load_model('./model/current_model_300.pth')\n",
    "agent.play(1)"
   ]
  },
  {
   "cell_type": "markdown",
   "metadata": {},
   "source": [
    "# Fully trained AI: Pong master!"
   ]
  },
  {
   "cell_type": "code",
   "execution_count": 10,
   "metadata": {},
   "outputs": [],
   "source": [
    "agent.load_model('./model/final_model.pth')\n",
    "agent.play(1)"
   ]
  },
  {
   "cell_type": "markdown",
   "metadata": {},
   "source": [
    "## What more can reinforcement learning do?"
   ]
  },
  {
   "cell_type": "markdown",
   "metadata": {},
   "source": [
    "<img src=\"images/rl_example_1.gif\" width=\"750\" align=\"center\">\n",
    "<img src=\"images/rl_example_2.gif\" width=\"750\" align=\"center\">\n",
    "<img src=\"images/rl_example_3.gif\" width=\"750\" align=\"center\">\n",
    "<img src=\"images/rl_example_4.gif\" width=\"750\" align=\"center\">\n",
    "<img src=\"images/rl_example_5.gif\" width=\"750\" align=\"center\">"
   ]
  },
  {
   "cell_type": "markdown",
   "metadata": {},
   "source": []
  }
 ],
 "metadata": {
  "kernelspec": {
   "display_name": "Python 3",
   "language": "python",
   "name": "python3"
  },
  "language_info": {
   "codemirror_mode": {
    "name": "ipython",
    "version": 3
   },
   "file_extension": ".py",
   "mimetype": "text/x-python",
   "name": "python",
   "nbconvert_exporter": "python",
   "pygments_lexer": "ipython3",
   "version": "3.9.19"
  }
 },
 "nbformat": 4,
 "nbformat_minor": 2
}
